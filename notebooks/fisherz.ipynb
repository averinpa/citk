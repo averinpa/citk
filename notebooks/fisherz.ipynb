{
 "cells": [
  {
   "cell_type": "code",
   "execution_count": 1,
   "id": "1be4d442-acba-42ea-9ac2-71ab37944e33",
   "metadata": {},
   "outputs": [
    {
     "name": "stderr",
     "output_type": "stream",
     "text": [
      "OMP: Info #276: omp_set_nested routine deprecated, please use omp_set_max_active_levels instead.\n",
      "/Users/pavelaverin/Projects/citk/citk/tests/ml_based_tests.py:781: RuntimeWarning: overflow encountered in scalar divide\n",
      "  p_value = min(1.0, 1.0 / e_value if e_value > 0 else float('inf'))\n"
     ]
    },
    {
     "name": "stdout",
     "output_type": "stream",
     "text": [
      "P-value (unconditional) for X _||_ Y: 1.0000\n",
      "P-value (conditional) for X _||_ Y | Z: 1.0000\n"
     ]
    }
   ],
   "source": [
    "import numpy as np\n",
    "from citk.tests import EDML\n",
    "\n",
    "# Generate data with a non-linear common confounder Z\n",
    "# Z -> X and Z -> Y\n",
    "n = 5000\n",
    "Z = np.random.uniform(-3, 3, n)\n",
    "X = np.sin(Z) + np.random.randn(n) * 0.2\n",
    "Y = np.cos(Z) + np.random.randn(n) * 0.2\n",
    "data = np.vstack([X, Y, Z]).T\n",
    "\n",
    "# Initialize the test.\n",
    "edml_test = EDML(data)\n",
    "\n",
    "# Test for unconditional independence (should be dependent, p-value should be small)\n",
    "p_unconditional = edml_test(0, 1)\n",
    "print(f\"P-value (unconditional) for X _||_ Y: {p_unconditional:.4f}\")\n",
    "\n",
    "# Test for conditional independence given Z (should be independent, p-value should be large)\n",
    "p_conditional = edml_test(0, 1, [2])\n",
    "print(f\"P-value (conditional) for X _||_ Y | Z: {p_conditional:.4f}\")"
   ]
  },
  {
   "cell_type": "code",
   "execution_count": 2,
   "id": "022540fd-aef9-45fd-9966-292af3756ee0",
   "metadata": {},
   "outputs": [
    {
     "data": {
      "text/plain": [
       "array([[ 0.11249027,  1.10288984,  0.16982356],\n",
       "       [-0.56107014,  0.94869525, -0.39383049],\n",
       "       [-0.52206797, -1.03734312, -2.66146001],\n",
       "       ...,\n",
       "       [ 0.85131748,  0.16977838,  1.08672576],\n",
       "       [-0.88850775,  0.25157914, -1.22900216],\n",
       "       [ 0.10798118,  0.93719375,  0.31736306]], shape=(5000, 3))"
      ]
     },
     "execution_count": 2,
     "metadata": {},
     "output_type": "execute_result"
    }
   ],
   "source": [
    "data"
   ]
  },
  {
   "cell_type": "code",
   "execution_count": 4,
   "id": "75f7d7dd-f0c1-4866-89f8-e0e57ddf1ca2",
   "metadata": {},
   "outputs": [
    {
     "name": "stderr",
     "output_type": "stream",
     "text": [
      "Depth=0, working on node 2: 100%|█████████████████████████████████████████████████████████████████████████████████| 3/3 [00:01<00:00,  1.84it/s]"
     ]
    },
    {
     "name": "stdout",
     "output_type": "stream",
     "text": [
      "Estimated Causal Graph:\n",
      "Graph Nodes:\n",
      "X1;X2;X3\n",
      "\n",
      "Graph Edges:\n",
      "1. X1 --- X3\n",
      "\n"
     ]
    },
    {
     "name": "stderr",
     "output_type": "stream",
     "text": [
      "\n"
     ]
    }
   ],
   "source": [
    "from causallearn.search.ConstraintBased.PC import pc\n",
    "from citk.tests import EDML\n",
    "import numpy as np\n",
    "\n",
    "# n = 2000\n",
    "# X = np.random.randn(n)\n",
    "# Z = 2 * X + np.random.randn(n) * 0.5\n",
    "# Y = 3 * Z + np.random.randn(n) * 0.5\n",
    "# data = np.vstack([X, Y, Z]).T\n",
    "\n",
    "cg = pc(data, alpha=0.05, indep_test='edml')\n",
    "print(\"Estimated Causal Graph:\")\n",
    "print(cg.G)"
   ]
  },
  {
   "cell_type": "code",
   "execution_count": null,
   "id": "e53077d1-4c75-43b2-8759-3d70e41fab78",
   "metadata": {},
   "outputs": [],
   "source": []
  },
  {
   "cell_type": "code",
   "execution_count": null,
   "id": "7ac85dd8-be6d-445b-9d12-e2c6f6d4b45b",
   "metadata": {},
   "outputs": [],
   "source": []
  },
  {
   "cell_type": "code",
   "execution_count": null,
   "id": "0344fabb-cd56-422f-a4b4-cb276cb1ba5c",
   "metadata": {},
   "outputs": [],
   "source": []
  }
 ],
 "metadata": {
  "kernelspec": {
   "display_name": "Python (citk-env)",
   "language": "python",
   "name": "citk-env"
  },
  "language_info": {
   "codemirror_mode": {
    "name": "ipython",
    "version": 3
   },
   "file_extension": ".py",
   "mimetype": "text/x-python",
   "name": "python",
   "nbconvert_exporter": "python",
   "pygments_lexer": "ipython3",
   "version": "3.11.13"
  }
 },
 "nbformat": 4,
 "nbformat_minor": 5
}
