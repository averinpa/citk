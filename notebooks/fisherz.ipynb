{
 "cells": [
  {
   "cell_type": "code",
   "execution_count": 3,
   "id": "75f7d7dd-f0c1-4866-89f8-e0e57ddf1ca2",
   "metadata": {},
   "outputs": [],
   "source": [
    "import numpy as np\n",
    "import os\n",
    "\n",
    "from citk.tests.simple_tests import FisherZ, Spearman\n",
    "\n"
   ]
  },
  {
   "cell_type": "code",
   "execution_count": 3,
   "id": "dad2efbf-426d-4b4b-abe5-5eae515b7f78",
   "metadata": {},
   "outputs": [
    {
     "name": "stdout",
     "output_type": "stream",
     "text": [
      "P-value (unconditional) for X _||_ Y: 0.0000\n",
      "P-value (conditional) for X _||_ Y | Z: 0.0870\n"
     ]
    }
   ],
   "source": [
    "import numpy as np\n",
    "from citk.tests import ChiSq\n",
    "\n",
    "# Generate discrete data for a chain: X -> Z -> Y\n",
    "# X, Y, and Z have 3, 3, and 2 levels respectively.\n",
    "n = 500\n",
    "X = np.random.randint(0, 3, size=n)\n",
    "Z = (X + np.random.randint(0, 2, size=n)) % 3\n",
    "Y = (Z + np.random.randint(0, 2, size=n)) % 3\n",
    "data = np.vstack([X, Y, Z]).T\n",
    "\n",
    "# Initialize the test\n",
    "g_sq_test = ChiSq(data)\n",
    "\n",
    "# Test for unconditional independence\n",
    "p_value_unconditional = g_sq_test(0, 1)\n",
    "print(f\"P-value (unconditional) for X _||_ Y: {p_value_unconditional:.4f}\")\n",
    "# Expected: p_value is small (dependent)\n",
    "\n",
    "# Test for conditional independence given Z\n",
    "p_value_conditional = g_sq_test(0, 1, [2])\n",
    "print(f\"P-value (conditional) for X _||_ Y | Z: {p_value_conditional:.4f}\")\n",
    "# Expected: p_value is large (independent)"
   ]
  },
  {
   "cell_type": "code",
   "execution_count": 2,
   "id": "0c7610a4-e974-40c9-aa34-efc6df654166",
   "metadata": {},
   "outputs": [
    {
     "data": {
      "application/vnd.jupyter.widget-view+json": {
       "model_id": "a6f70b087c464bc7914233f255e4a35f",
       "version_major": 2,
       "version_minor": 0
      },
      "text/plain": [
       "  0%|          | 0/3 [00:00<?, ?it/s]"
      ]
     },
     "metadata": {},
     "output_type": "display_data"
    },
    {
     "name": "stdout",
     "output_type": "stream",
     "text": [
      "Estimated Causal Graph:\n",
      "Graph Nodes:\n",
      "X1;X2;X3\n",
      "\n",
      "Graph Edges:\n",
      "1. X1 --- X3\n",
      "2. X2 --- X3\n",
      "\n"
     ]
    }
   ],
   "source": [
    "from causallearn.search.ConstraintBased.PC import pc\n",
    "\n",
    "# The same discrete data from the standalone example\n",
    "cg = pc(data, alpha=0.05, indep_test='gsq')\n",
    "\n",
    "print(\"Estimated Causal Graph:\")\n",
    "print(cg.G)"
   ]
  },
  {
   "cell_type": "code",
   "execution_count": 16,
   "id": "6b6e8f69-c035-417c-a683-900870650384",
   "metadata": {},
   "outputs": [
    {
     "name": "stdout",
     "output_type": "stream",
     "text": [
      "P-value for X _||_ Z: 0.6601\n",
      "P-value for X _||_ Z | Y: 0.0000\n"
     ]
    }
   ],
   "source": [
    "import numpy as np\n",
    "from citk.tests import ChiSq\n",
    "\n",
    "# Generate discrete data representing a collider: X -> Y <- Z\n",
    "# X and Z should be dependent given Y\n",
    "n = 500\n",
    "X = np.random.randint(0, 2, size=n)\n",
    "Z = np.random.randint(0, 2, size=n)\n",
    "Y_true = (X + Z) % 2\n",
    "noise_mask = np.random.choice([0, 1], size=n, p=[0.9, 0.1])\n",
    "Y = (Y_true + noise_mask) % 2\n",
    "data = np.vstack([X, Y, Z]).T\n",
    "\n",
    "# Initialize the test\n",
    "chisq_test = ChiSq(data)\n",
    "\n",
    "# Test for unconditional independence (X and Z are independent)\n",
    "p_value_unconditional = chisq_test(0, 2)\n",
    "print(f\"P-value for X _||_ Z: {p_value_unconditional:.4f}\")\n",
    "\n",
    "# Test for conditional dependence on the collider Y\n",
    "p_value_conditional = chisq_test(0, 2, [1])\n",
    "print(f\"P-value for X _||_ Z | Y: {p_value_conditional:.4f}\")"
   ]
  },
  {
   "cell_type": "code",
   "execution_count": 2,
   "id": "219dbb94-562a-4d7f-ae9d-5f04b972c402",
   "metadata": {},
   "outputs": [
    {
     "data": {
      "application/vnd.jupyter.widget-view+json": {
       "model_id": "b5d4334e3f5a4e259d5ddafd2f998395",
       "version_major": 2,
       "version_minor": 0
      },
      "text/plain": [
       "  0%|          | 0/3 [00:00<?, ?it/s]"
      ]
     },
     "metadata": {},
     "output_type": "display_data"
    },
    {
     "name": "stdout",
     "output_type": "stream",
     "text": [
      "Estimated Causal Graph:\n",
      "Graph Nodes:\n",
      "X1;X2;X3\n",
      "\n",
      "Graph Edges:\n",
      "1. X1 --- X3\n",
      "2. X2 --- X3\n",
      "\n"
     ]
    }
   ],
   "source": [
    "from causallearn.search.ConstraintBased.PC import pc\n",
    "\n",
    "# The same data from the standalone example\n",
    "cg = pc(data, alpha=0.05, indep_test='fisherz_citk')\n",
    "\n",
    "print(\"Estimated Causal Graph:\")\n",
    "print(cg.G)"
   ]
  },
  {
   "cell_type": "code",
   "execution_count": null,
   "id": "9d3e422b-96e4-4fe6-936c-bca30f55c3ba",
   "metadata": {},
   "outputs": [],
   "source": []
  },
  {
   "cell_type": "code",
   "execution_count": 4,
   "id": "3dd44b2e-89cc-4cd2-9f56-3e5a42717285",
   "metadata": {},
   "outputs": [
    {
     "name": "stdout",
     "output_type": "stream",
     "text": [
      "\n",
      "============================================================\n",
      "Running FisherZ and Spearman CI Tests on: Weak Signal (n=200)\n",
      "Data shape: (200, 3)\n",
      "============================================================\n",
      "\n",
      "--- Testing: fisher's_z (Weak Signal (n=200)) ---\n",
      "  p-value for A _||_ C: 0.0000 -> Dependent (Expected: Dependent)\n",
      "  p-value for A _||_ C | B: 0.3900 -> Independent (Expected: Independent)\n",
      "\n",
      "--- Testing: spearman's_rho (Weak Signal (n=200)) ---\n",
      "  p-value for A _||_ C: 0.0000 -> Dependent (Expected: Dependent)\n",
      "  p-value for A _||_ C | B: 0.6032 -> Independent (Expected: Independent)\n",
      "\n",
      "============================================================\n",
      "Running FisherZ and Spearman CI Tests on: Strong Signal (n=500)\n",
      "Data shape: (500, 3)\n",
      "============================================================\n",
      "\n",
      "--- Testing: fisher's_z (Strong Signal (n=500)) ---\n",
      "  p-value for A _||_ C: 0.0000 -> Dependent (Expected: Dependent)\n",
      "  p-value for A _||_ C | B: 0.0644 -> Independent (Expected: Independent)\n",
      "\n",
      "--- Testing: spearman's_rho (Strong Signal (n=500)) ---\n",
      "  p-value for A _||_ C: 0.0000 -> Dependent (Expected: Dependent)\n",
      "  p-value for A _||_ C | B: 0.1630 -> Independent (Expected: Independent)\n",
      "\n",
      "============================================================\n",
      "Synthetic data test demonstration complete.\n",
      "============================================================\n"
     ]
    }
   ],
   "source": [
    "\n",
    "def run_tests_on_dataset(data, dataset_name):\n",
    "    \"\"\"Helper function to run FisherZ and Spearman tests on a given dataset.\"\"\"\n",
    "    print(\"\\n\" + \"=\"*60)\n",
    "    print(f\"Running FisherZ and Spearman CI Tests on: {dataset_name}\")\n",
    "    print(f\"Data shape: {data.shape}\")\n",
    "    print(\"=\"*60)\n",
    "\n",
    "    # Define the list of tests to run\n",
    "    tests_to_run = [\n",
    "        (FisherZ, \"fisher's_z\", {}),\n",
    "        (Spearman, \"spearman's_rho\", {}),\n",
    "    ]\n",
    "\n",
    "    for TestClass, test_name, kwargs in tests_to_run:\n",
    "        print(f\"\\n--- Testing: {test_name} ({dataset_name}) ---\")\n",
    "\n",
    "        cache_file = f\"examples/cache/{dataset_name}_{test_name.lower().replace(' ', '_')}_cache.json\"\n",
    "        test_instance = TestClass(data, cache_path=cache_file, **kwargs)\n",
    "\n",
    "        # Unconditional test: A and C should be dependent\n",
    "        p_ac = test_instance(0, 2)\n",
    "        print(f\"  p-value for A _||_ C: {p_ac:.4f} -> {'Dependent' if p_ac < 0.05 else 'Independent'} (Expected: Dependent)\")\n",
    "\n",
    "        # Conditional test: A and C should be independent given B\n",
    "        p_ac_b = test_instance(0, 2, [1])\n",
    "        print(f\"  p-value for A _||_ C | B: {p_ac_b:.4f} -> {'Dependent' if p_ac_b < 0.05 else 'Independent'} (Expected: Independent)\")\n",
    "        \n",
    "        test_instance.save_cache()\n",
    "\n",
    "\n",
    "# Create a directory for cache files if it doesn't exist\n",
    "os.makedirs(\"examples/cache\", exist_ok=True)\n",
    "\n",
    "# =================================================================================\n",
    "# Section 1: Weak Signal Data (n=200)\n",
    "# Structure: A -> B -> C\n",
    "# =================================================================================\n",
    "np.random.seed(42)\n",
    "n_weak = 200\n",
    "A_weak = np.random.randn(n_weak)\n",
    "B_weak = 0.7 * A_weak + 0.5 * np.random.randn(n_weak)\n",
    "C_weak = 0.7 * B_weak + 0.5 * np.random.randn(n_weak)\n",
    "data_weak = np.vstack([A_weak, B_weak, C_weak]).T\n",
    "\n",
    "run_tests_on_dataset(data_weak, \"Weak Signal (n=200)\")\n",
    "\n",
    "# =================================================================================\n",
    "# Section 2: Strong Signal Data (n=500)\n",
    "# Structure: A -> B -> C\n",
    "# =================================================================================\n",
    "np.random.seed(42)\n",
    "n_strong = 500\n",
    "A_strong = np.random.randn(n_strong)\n",
    "B_strong = 0.9 * A_strong + 0.2 * np.random.randn(n_strong)\n",
    "C_strong = 0.9 * B_strong + 0.2 * np.random.randn(n_strong)\n",
    "data_strong = np.vstack([A_strong, B_strong, C_strong]).T\n",
    "\n",
    "run_tests_on_dataset(data_strong, \"Strong Signal (n=500)\")\n",
    "\n",
    "print(\"\\n\" + \"=\"*60)\n",
    "print(\"Synthetic data test demonstration complete.\")\n",
    "print(\"=\"*60) "
   ]
  },
  {
   "cell_type": "code",
   "execution_count": null,
   "id": "8911232d-ffee-43d7-a31c-d8f2149ee67b",
   "metadata": {},
   "outputs": [],
   "source": []
  }
 ],
 "metadata": {
  "kernelspec": {
   "display_name": "citk-env",
   "language": "python",
   "name": "citk-env"
  },
  "language_info": {
   "codemirror_mode": {
    "name": "ipython",
    "version": 3
   },
   "file_extension": ".py",
   "mimetype": "text/x-python",
   "name": "python",
   "nbconvert_exporter": "python",
   "pygments_lexer": "ipython3",
   "version": "3.13.5"
  }
 },
 "nbformat": 4,
 "nbformat_minor": 5
}
